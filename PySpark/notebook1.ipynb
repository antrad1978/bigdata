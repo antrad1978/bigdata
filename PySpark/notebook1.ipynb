{
 "cells": [
  {
   "cell_type": "code",
   "execution_count": null,
   "metadata": {
    "collapsed": true
   },
   "outputs": [],
   "source": [
    "%pyspark\n",
    "#spark = SparkSession.builder.appName(\"using_s3\").getOrCreate()\n",
    " \n",
    "# Create an RDD from a file in S3 using the s3n protocol\n",
    "s3nRdd = sc.textFile(\"s3n://ngtemr/SalesJan2009.csv\")\n",
    "s3nRdd.count()\n",
    "\n",
    "df = sqlContext.read.format('csv').options(header='true').load(\"s3n://ngtemr/SalesJan2009.csv\")\n",
    "df.count()\n",
    "df.dtypes\n",
    "#df.describe().show()\n",
    "#type(df.describe())\n",
    "#df.describe().dtypes\n",
    "#df.filter(df[4] == \"Visa\").count()\n",
    "\n",
    "df.filter(df.Latitude < 10).count()"
   ]
  }
 ],
 "metadata": {
  "kernelspec": {
   "display_name": "Python 2",
   "language": "python",
   "name": "python2"
  },
  "language_info": {
   "codemirror_mode": {
    "name": "ipython",
    "version": 2
   },
   "file_extension": ".py",
   "mimetype": "text/x-python",
   "name": "python",
   "nbconvert_exporter": "python",
   "pygments_lexer": "ipython2",
   "version": "2.7.6"
  }
 },
 "nbformat": 4,
 "nbformat_minor": 0
}
